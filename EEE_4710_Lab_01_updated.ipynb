{
 "cells": [
  {
   "cell_type": "markdown",
   "metadata": {
    "id": "CoUsVdddONFW"
   },
   "source": [
    "Prepared By\n",
    "\n",
    "Asif Newaz, Lecturer, EEE, IUT\n",
    "\n",
    "Ahmad Shafiullah, Lecturer, EEE, IUT"
   ]
  },
  {
   "cell_type": "markdown",
   "metadata": {
    "id": "I76C7Hyqz8f4"
   },
   "source": [
    "Data Structures are the basic building blocks of a programming language. The first step towards learning a programming language is to understand its data structures i.e. how data can be represented in that programming language.\n"
   ]
  },
  {
   "cell_type": "markdown",
   "metadata": {
    "id": "X2z57xxSL_yS"
   },
   "source": [
    "Python is very easy to understand and quite similar to Matlab programming language that you are familiar with. We will first briefly look at the basic structures. Then we will move to some special libraries that we will need for developing an ML system."
   ]
  },
  {
   "cell_type": "markdown",
   "metadata": {
    "id": "wq-cOicH0RON"
   },
   "source": [
    "### **Lists**\n",
    "\n",
    "Python Lists are just like the arrays in Matlab, which is an ordered collection of data. It is very flexible as the items in a list do not need to be of the same type."
   ]
  },
  {
   "cell_type": "code",
   "execution_count": 1,
   "metadata": {
    "colab": {
     "base_uri": "https://localhost:8080/"
    },
    "id": "fbhKhPao0Boa",
    "outputId": "96588903-b822-45a5-e1fa-4ffa32a7f3a7"
   },
   "outputs": [
    {
     "name": "stdout",
     "output_type": "stream",
     "text": [
      "[1, 2, 3, 'IUT', 2.3]\n"
     ]
    }
   ],
   "source": [
    "List = [1, 2,  3, \"IUT\", 2.3]\n",
    "print(List)"
   ]
  },
  {
   "cell_type": "markdown",
   "metadata": {
    "id": "FalCYhNG2ZtQ"
   },
   "source": [
    "Indexing of python lists starts from 0, unlike Matlab where it starts from 1. Also unlike Matlab, you've to use square brackets for indexing."
   ]
  },
  {
   "cell_type": "code",
   "execution_count": 2,
   "metadata": {
    "colab": {
     "base_uri": "https://localhost:8080/"
    },
    "id": "NZMg_Vvz2RsE",
    "outputId": "704abb6e-a274-4489-feb7-f7eaf3d53add"
   },
   "outputs": [
    {
     "name": "stdout",
     "output_type": "stream",
     "text": [
      "Accessing element from the list\n",
      "1\n",
      "IUT\n",
      "Accessing element using negative indexing\n",
      "2.3\n",
      "3\n"
     ]
    }
   ],
   "source": [
    "# accessing a element from the list using index number\n",
    "print(\"Accessing element from the list\")\n",
    "print(List[0])\n",
    "print(List[3])\n",
    "\n",
    "# accessing a element using negative indexing\n",
    "print(\"Accessing element using negative indexing\")\n",
    "\n",
    "# print the last element of list\n",
    "print(List[-1])\n",
    "\n",
    "# print the third last element of list\n",
    "print(List[-3])"
   ]
  },
  {
   "cell_type": "markdown",
   "metadata": {
    "id": "yL6OieF_OLkS"
   },
   "source": [
    "It can also contain another list inside it (list of lists). This is how you create a matrix in python."
   ]
  },
  {
   "cell_type": "code",
   "execution_count": 29,
   "metadata": {
    "colab": {
     "base_uri": "https://localhost:8080/"
    },
    "id": "NolUYU81O_fz",
    "outputId": "dc3dee94-fbdb-48e4-b889-8ffdeaeb7803"
   },
   "outputs": [
    {
     "data": {
      "text/plain": [
       "[2, 3, [0, 9], [0, 0, 9, 9]]"
      ]
     },
     "execution_count": 29,
     "metadata": {},
     "output_type": "execute_result"
    }
   ],
   "source": [
    "a= [2,3,[0,9],[0,0,9,9]]\n",
    "a"
   ]
  },
  {
   "cell_type": "markdown",
   "metadata": {
    "id": "ib9tv1vrNmT3"
   },
   "source": [
    "**Slicing array**\n",
    "\n",
    "upper bound exclusive ---> does not inlcude the last one\n",
    "\n",
    "negative indexing is also possible"
   ]
  },
  {
   "cell_type": "code",
   "execution_count": 4,
   "metadata": {
    "colab": {
     "base_uri": "https://localhost:8080/"
    },
    "id": "zzo7_D4kNRM8",
    "outputId": "4376a8cb-d7c7-4a0b-b844-b7d86db41ca3"
   },
   "outputs": [
    {
     "name": "stdout",
     "output_type": "stream",
     "text": [
      "[3, 'IUT']\n",
      "[3, 'IUT', 2.3]\n",
      "[3, 'IUT', 2.3]\n"
     ]
    }
   ],
   "source": [
    "print(List[2:4])\n",
    "print(List[2:5])\n",
    "print(List[2:])"
   ]
  },
  {
   "cell_type": "code",
   "execution_count": 5,
   "metadata": {
    "colab": {
     "base_uri": "https://localhost:8080/"
    },
    "id": "jWCA1hfKPr7l",
    "outputId": "951fd750-1197-4976-dedd-ef4ab73e7b18"
   },
   "outputs": [
    {
     "name": "stdout",
     "output_type": "stream",
     "text": [
      "[1, 2, 3, 'IUT']\n",
      "[1, 2, 3, 'IUT', 2.3]\n",
      "[3, 'IUT']\n"
     ]
    }
   ],
   "source": [
    "print(List[:4])\n",
    "print(List[:5])\n",
    "print(List[2:-1])"
   ]
  },
  {
   "cell_type": "code",
   "execution_count": 6,
   "metadata": {
    "colab": {
     "base_uri": "https://localhost:8080/"
    },
    "id": "PlrYh0LyP-Ze",
    "outputId": "eb9f0d3b-0025-49bd-b7f6-88449b857f9f"
   },
   "outputs": [
    {
     "name": "stdout",
     "output_type": "stream",
     "text": [
      "2.3\n",
      "IUT\n"
     ]
    }
   ],
   "source": [
    "print(List[-1])\n",
    "print(List[-2])\n"
   ]
  },
  {
   "cell_type": "markdown",
   "metadata": {
    "id": "mjdhu0FkRd_9"
   },
   "source": [
    "Changing array elements"
   ]
  },
  {
   "cell_type": "code",
   "execution_count": 30,
   "metadata": {
    "colab": {
     "base_uri": "https://localhost:8080/"
    },
    "id": "H8XD45AsRTi7",
    "outputId": "9d83da72-79db-4b26-9017-66b28dbbcd3d"
   },
   "outputs": [
    {
     "name": "stdout",
     "output_type": "stream",
     "text": [
      "[0, 9]\n",
      "[2, 3, 'max payne', [0, 0, 9, 9]]\n"
     ]
    }
   ],
   "source": [
    "print(a[2])\n",
    "a[2] = 'max payne'\n",
    "print(a)"
   ]
  },
  {
   "cell_type": "code",
   "execution_count": 10,
   "metadata": {},
   "outputs": [
    {
     "ename": "IndexError",
     "evalue": "list assignment index out of range",
     "output_type": "error",
     "traceback": [
      "\u001b[1;31m---------------------------------------------------------------------------\u001b[0m",
      "\u001b[1;31mIndexError\u001b[0m                                Traceback (most recent call last)",
      "\u001b[1;32m~\\AppData\\Local\\Temp/ipykernel_12760/3567882412.py\u001b[0m in \u001b[0;36m<module>\u001b[1;34m\u001b[0m\n\u001b[1;32m----> 1\u001b[1;33m \u001b[0ma\u001b[0m\u001b[1;33m[\u001b[0m\u001b[1;36m4\u001b[0m\u001b[1;33m]\u001b[0m\u001b[1;33m=\u001b[0m\u001b[1;34m'alicient'\u001b[0m\u001b[1;33m\u001b[0m\u001b[1;33m\u001b[0m\u001b[0m\n\u001b[0m\u001b[0;32m      2\u001b[0m \u001b[0ma\u001b[0m\u001b[1;33m\u001b[0m\u001b[1;33m\u001b[0m\u001b[0m\n",
      "\u001b[1;31mIndexError\u001b[0m: list assignment index out of range"
     ]
    }
   ],
   "source": [
    "a[4]='alicient'\n",
    "a"
   ]
  },
  {
   "cell_type": "code",
   "execution_count": 31,
   "metadata": {},
   "outputs": [
    {
     "data": {
      "text/plain": [
       "[2, 3, 'max payne', [0, 0, 9, 9], 'alicient']"
      ]
     },
     "execution_count": 31,
     "metadata": {},
     "output_type": "execute_result"
    }
   ],
   "source": [
    "a.append('alicient')\n",
    "a"
   ]
  },
  {
   "cell_type": "markdown",
   "metadata": {
    "id": "WJjBNbYdQKG7"
   },
   "source": [
    "Python lists are less flexible than Matlab's array/matrix.\n",
    "\n",
    "To have that kind of flexibility, you will need numpy array from numpy library which is developed keeping similarity with Matlab.\n",
    "\n"
   ]
  },
  {
   "cell_type": "code",
   "execution_count": 14,
   "metadata": {},
   "outputs": [
    {
     "ename": "SyntaxError",
     "evalue": "invalid syntax (Temp/ipykernel_12760/1405779438.py, line 2)",
     "output_type": "error",
     "traceback": [
      "\u001b[1;36m  File \u001b[1;32m\"C:\\Users\\asifn\\AppData\\Local\\Temp/ipykernel_12760/1405779438.py\"\u001b[1;36m, line \u001b[1;32m2\u001b[0m\n\u001b[1;33m    a.\u001b[0m\n\u001b[1;37m      ^\u001b[0m\n\u001b[1;31mSyntaxError\u001b[0m\u001b[1;31m:\u001b[0m invalid syntax\n"
     ]
    }
   ],
   "source": [
    "# use dot then tab to see all the available methods to that object\n",
    "a."
   ]
  },
  {
   "cell_type": "markdown",
   "metadata": {},
   "source": [
    "no need to memorize all the possible methods. use documentation to find what you are looking for."
   ]
  },
  {
   "cell_type": "markdown",
   "metadata": {
    "id": "KJJbd5lp3iHV"
   },
   "source": [
    "## **Tuple**\n",
    "Python Tuple is similar to list but Tuples are immutable in nature i.e. the elements in the tuple cannot be added or removed once created. Just like a List, a Tuple can also contain elements of various types.\n",
    "\n",
    "\n",
    "In Python, tuples are created by placing a sequence of values separated by ‘comma’ with or without the use of parentheses for grouping of the data sequence.\n",
    "\n",
    "\n",
    "\n",
    "1.   item assignment - not allowed\n",
    "2.   add item - not allowed\n",
    "3.   delete item - not allowed\n",
    "\n",
    "you've to first convert it into list to do such operations.\n",
    "\n"
   ]
  },
  {
   "cell_type": "code",
   "execution_count": 15,
   "metadata": {
    "colab": {
     "base_uri": "https://localhost:8080/"
    },
    "id": "4uXohEuZ3zLK",
    "outputId": "3a3fd06e-2a54-426b-b80c-0ae7216d6943"
   },
   "outputs": [
    {
     "name": "stdout",
     "output_type": "stream",
     "text": [
      "\n",
      "Tuple with the use of String: \n",
      "('IUT', 'Boardbazar')\n",
      "\n",
      "Tuple using List: \n",
      "(1, 2, 4, 5, 6)\n",
      "First element of tuple\n",
      "1\n",
      "\n",
      "Last element of tuple\n",
      "6\n"
     ]
    }
   ],
   "source": [
    "\n",
    "# Creating a Tuple with\n",
    "# the use of Strings\n",
    "Tuple = ('IUT', 'Boardbazar')\n",
    "print(\"\\nTuple with the use of String: \")\n",
    "print(Tuple)\n",
    "\n",
    "# Creating a Tuple with the use of list\n",
    "list1 = [1, 2, 4, 5, 6]\n",
    "print(\"\\nTuple using List: \")\n",
    "Tuple = tuple(list1)\n",
    "print(Tuple)\n",
    "\n",
    "# Accessing element using indexing\n",
    "print(\"First element of tuple\")\n",
    "print(Tuple[0])\n",
    "\n",
    "# Accessing element from last negative indexing\n",
    "print(\"\\nLast element of tuple\")\n",
    "print(Tuple[-1])\n"
   ]
  },
  {
   "cell_type": "markdown",
   "metadata": {
    "id": "j9guYY_wTI3J"
   },
   "source": [
    "look at the error message"
   ]
  },
  {
   "cell_type": "code",
   "execution_count": 16,
   "metadata": {
    "colab": {
     "base_uri": "https://localhost:8080/",
     "height": 227
    },
    "id": "YXN5N_ViS7DH",
    "outputId": "2a0ec352-1f1e-468f-9013-dffc6f25a853"
   },
   "outputs": [
    {
     "name": "stdout",
     "output_type": "stream",
     "text": [
      "(1, 2, 4, 5, 6)\n"
     ]
    },
    {
     "ename": "TypeError",
     "evalue": "'tuple' object does not support item assignment",
     "output_type": "error",
     "traceback": [
      "\u001b[1;31m---------------------------------------------------------------------------\u001b[0m",
      "\u001b[1;31mTypeError\u001b[0m                                 Traceback (most recent call last)",
      "\u001b[1;32m~\\AppData\\Local\\Temp/ipykernel_12760/3223555928.py\u001b[0m in \u001b[0;36m<module>\u001b[1;34m\u001b[0m\n\u001b[0;32m      1\u001b[0m \u001b[0mprint\u001b[0m\u001b[1;33m(\u001b[0m\u001b[0mTuple\u001b[0m\u001b[1;33m)\u001b[0m\u001b[1;33m\u001b[0m\u001b[1;33m\u001b[0m\u001b[0m\n\u001b[1;32m----> 2\u001b[1;33m \u001b[0mTuple\u001b[0m\u001b[1;33m[\u001b[0m\u001b[1;36m2\u001b[0m\u001b[1;33m]\u001b[0m \u001b[1;33m=\u001b[0m \u001b[1;34m'voldemort'\u001b[0m\u001b[1;33m\u001b[0m\u001b[1;33m\u001b[0m\u001b[0m\n\u001b[0m\u001b[0;32m      3\u001b[0m \u001b[0mprint\u001b[0m\u001b[1;33m(\u001b[0m\u001b[0mTuple\u001b[0m\u001b[1;33m)\u001b[0m\u001b[1;33m\u001b[0m\u001b[1;33m\u001b[0m\u001b[0m\n",
      "\u001b[1;31mTypeError\u001b[0m: 'tuple' object does not support item assignment"
     ]
    }
   ],
   "source": [
    "print(Tuple)\n",
    "Tuple[2] = 'voldemort'\n",
    "print(Tuple)"
   ]
  },
  {
   "cell_type": "code",
   "execution_count": 20,
   "metadata": {},
   "outputs": [
    {
     "data": {
      "text/plain": [
       "1"
      ]
     },
     "execution_count": 20,
     "metadata": {},
     "output_type": "execute_result"
    }
   ],
   "source": [
    "#Tuple.\n",
    "Tuple.count(4)"
   ]
  },
  {
   "cell_type": "markdown",
   "metadata": {},
   "source": [
    "python is an object-oriented programming language. so it creates an object upon which u can call on methods and have certain properties."
   ]
  },
  {
   "cell_type": "markdown",
   "metadata": {},
   "source": [
    "# Alias"
   ]
  },
  {
   "cell_type": "code",
   "execution_count": 32,
   "metadata": {},
   "outputs": [
    {
     "data": {
      "text/plain": [
       "[2, 3, 'max payne', [0, 0, 9, 9], 'alicient']"
      ]
     },
     "execution_count": 32,
     "metadata": {},
     "output_type": "execute_result"
    }
   ],
   "source": [
    "a"
   ]
  },
  {
   "cell_type": "code",
   "execution_count": 33,
   "metadata": {},
   "outputs": [],
   "source": [
    "b=a"
   ]
  },
  {
   "cell_type": "code",
   "execution_count": 34,
   "metadata": {},
   "outputs": [
    {
     "data": {
      "text/plain": [
       "[2, 3, 'max payne', [0, 0, 9, 9], 'alicient', 'gray']"
      ]
     },
     "execution_count": 34,
     "metadata": {},
     "output_type": "execute_result"
    }
   ],
   "source": [
    "a.append('gray')\n",
    "a"
   ]
  },
  {
   "cell_type": "code",
   "execution_count": 35,
   "metadata": {},
   "outputs": [
    {
     "data": {
      "text/plain": [
       "[2, 3, 'max payne', [0, 0, 9, 9], 'alicient', 'gray']"
      ]
     },
     "execution_count": 35,
     "metadata": {},
     "output_type": "execute_result"
    }
   ],
   "source": [
    "b"
   ]
  },
  {
   "cell_type": "code",
   "execution_count": 36,
   "metadata": {},
   "outputs": [],
   "source": [
    "c=a.copy()\n",
    "# makes a shallow copy"
   ]
  },
  {
   "cell_type": "code",
   "execution_count": 37,
   "metadata": {},
   "outputs": [
    {
     "data": {
      "text/plain": [
       "[2, 'max payne', [0, 0, 9, 9], 'alicient', 'gray']"
      ]
     },
     "execution_count": 37,
     "metadata": {},
     "output_type": "execute_result"
    }
   ],
   "source": [
    "a.remove(3)\n",
    "a"
   ]
  },
  {
   "cell_type": "code",
   "execution_count": 38,
   "metadata": {},
   "outputs": [
    {
     "data": {
      "text/plain": [
       "[2, 'max payne', [0, 0, 9, 9], 'alicient', 'gray']"
      ]
     },
     "execution_count": 38,
     "metadata": {},
     "output_type": "execute_result"
    }
   ],
   "source": [
    "b"
   ]
  },
  {
   "cell_type": "code",
   "execution_count": 39,
   "metadata": {},
   "outputs": [
    {
     "data": {
      "text/plain": [
       "[2, 3, 'max payne', [0, 0, 9, 9], 'alicient', 'gray']"
      ]
     },
     "execution_count": 39,
     "metadata": {},
     "output_type": "execute_result"
    }
   ],
   "source": [
    "c"
   ]
  },
  {
   "cell_type": "markdown",
   "metadata": {
    "id": "PQIOjlmq4624"
   },
   "source": [
    "## **Dictionary**\n",
    "Dictionary is used to store data values like a map, which, unlike other Data Types that hold only a single value as an element, Dictionary holds the key:value pair. Key-value is provided in the dictionary to make it more optimized.\n",
    "\n",
    "Indexing of Python Dictionary is done with the help of keys. We can create a dictionary by using curly braces ({})"
   ]
  },
  {
   "cell_type": "code",
   "execution_count": 40,
   "metadata": {
    "colab": {
     "base_uri": "https://localhost:8080/"
    },
    "id": "ADpLenB26Obn",
    "outputId": "30076a27-5e54-46af-a574-54b668aa54f4"
   },
   "outputs": [
    {
     "name": "stdout",
     "output_type": "stream",
     "text": [
      "Creating Dictionary: \n",
      "{'Name': 'Jon Snow', 'Knowledge': 0}\n",
      "Accessing a element using key:\n",
      "Jon Snow\n",
      "Accessing a element using get:\n",
      "0\n"
     ]
    }
   ],
   "source": [
    "# Creating a Dictionary\n",
    "Dict = {'Name': 'Jon Snow', 'Knowledge': 0}\n",
    "\n",
    "print(\"Creating Dictionary: \")\n",
    "print(Dict)\n",
    "\n",
    "# accessing a element using key\n",
    "print(\"Accessing a element using key:\")\n",
    "print(Dict['Name'])\n",
    "\n",
    "# accessing a element using get()\n",
    "# method\n",
    "print(\"Accessing a element using get:\")\n",
    "print(Dict.get(\"Knowledge\"))\n"
   ]
  },
  {
   "cell_type": "code",
   "execution_count": 41,
   "metadata": {
    "id": "IWeAp6TJ0RIT"
   },
   "outputs": [],
   "source": [
    "Dict = {'Name': 'CC_01', 1: [1, 2, 3, 4]}"
   ]
  },
  {
   "cell_type": "code",
   "execution_count": 42,
   "metadata": {
    "colab": {
     "base_uri": "https://localhost:8080/"
    },
    "id": "uaLp0b_iRIFo",
    "outputId": "02b2d0e0-26ee-4088-918c-afe9a58c97c4"
   },
   "outputs": [
    {
     "data": {
      "text/plain": [
       "dict_keys(['Name', 1])"
      ]
     },
     "execution_count": 42,
     "metadata": {},
     "output_type": "execute_result"
    }
   ],
   "source": [
    "Dict.keys()"
   ]
  },
  {
   "cell_type": "code",
   "execution_count": 43,
   "metadata": {
    "colab": {
     "base_uri": "https://localhost:8080/"
    },
    "id": "aWWH6bnNT0CG",
    "outputId": "0e4d41a3-1506-4224-df0a-90283101a3f0"
   },
   "outputs": [
    {
     "data": {
      "text/plain": [
       "dict_values(['CC_01', [1, 2, 3, 4]])"
      ]
     },
     "execution_count": 43,
     "metadata": {},
     "output_type": "execute_result"
    }
   ],
   "source": [
    "Dict.values()"
   ]
  },
  {
   "cell_type": "markdown",
   "metadata": {
    "id": "fQEWSYLYFq7l"
   },
   "source": [
    "## **String**\n",
    "Python Strings are an immutable array of characters. Python does not have a character data type unlike Matlab. It is somewhat similar to Matlab's string."
   ]
  },
  {
   "cell_type": "code",
   "execution_count": 44,
   "metadata": {
    "colab": {
     "base_uri": "https://localhost:8080/"
    },
    "id": "ZZfsd4u08fmJ",
    "outputId": "475d5f44-56a6-436e-84d5-9f623650b74d"
   },
   "outputs": [
    {
     "name": "stdout",
     "output_type": "stream",
     "text": [
      "Creating String: \n",
      "Welcome to the ML/AI Lab\n",
      "\n",
      "First character of String is: \n",
      "W\n",
      "\n",
      "Last character of String is: \n",
      "b\n"
     ]
    }
   ],
   "source": [
    "String = \"Welcome to the ML/AI Lab\"\n",
    "print(\"Creating String: \")\n",
    "print(String)\n",
    "\n",
    "# Printing First character\n",
    "print(\"\\nFirst character of String is: \")\n",
    "print(String[0])\n",
    "\n",
    "# Printing Last character\n",
    "print(\"\\nLast character of String is: \")\n",
    "print(String[-1])"
   ]
  },
  {
   "cell_type": "code",
   "execution_count": 45,
   "metadata": {
    "colab": {
     "base_uri": "https://localhost:8080/"
    },
    "id": "PTdtDlqUUpNt",
    "outputId": "c3f3d153-d42b-41eb-dd02-612bd55bbe8f"
   },
   "outputs": [
    {
     "data": {
      "text/plain": [
       "24"
      ]
     },
     "execution_count": 45,
     "metadata": {},
     "output_type": "execute_result"
    }
   ],
   "source": [
    "len (String)\n",
    "# unlike Matlab"
   ]
  },
  {
   "cell_type": "markdown",
   "metadata": {
    "id": "TA-ZUkemU6NA"
   },
   "source": [
    "Strings are immutable"
   ]
  },
  {
   "cell_type": "code",
   "execution_count": 46,
   "metadata": {
    "colab": {
     "base_uri": "https://localhost:8080/",
     "height": 175
    },
    "id": "DENB63f7UzyK",
    "outputId": "bde8e9fb-9793-4ed4-cd56-783e397a11cd"
   },
   "outputs": [
    {
     "ename": "TypeError",
     "evalue": "'str' object does not support item assignment",
     "output_type": "error",
     "traceback": [
      "\u001b[1;31m---------------------------------------------------------------------------\u001b[0m",
      "\u001b[1;31mTypeError\u001b[0m                                 Traceback (most recent call last)",
      "\u001b[1;32m~\\AppData\\Local\\Temp/ipykernel_12760/764323900.py\u001b[0m in \u001b[0;36m<module>\u001b[1;34m\u001b[0m\n\u001b[1;32m----> 1\u001b[1;33m \u001b[0mString\u001b[0m\u001b[1;33m[\u001b[0m\u001b[1;36m2\u001b[0m\u001b[1;33m]\u001b[0m\u001b[1;33m=\u001b[0m \u001b[1;34m'w'\u001b[0m\u001b[1;33m\u001b[0m\u001b[1;33m\u001b[0m\u001b[0m\n\u001b[0m",
      "\u001b[1;31mTypeError\u001b[0m: 'str' object does not support item assignment"
     ]
    }
   ],
   "source": [
    "String[2]= 'w'"
   ]
  },
  {
   "cell_type": "markdown",
   "metadata": {
    "id": "53xeIRYMWbo4"
   },
   "source": [
    "## **Libraries**\n",
    "Python libraries are like toolboxes filled with various tools that help you do specific tasks without having to create everything from scratch. These libraries are designed to make coding easier and more efficient for students and professionals alike. Here's a brief overview of some popular Python libraries:\n",
    "\n",
    "1. **NumPy**: Great for mathematical computations. It helps you work with large arrays and matrices and perform numerical operations quickly.\n",
    "\n",
    "2. **Pandas**: A library for data analysis and manipulation. It makes handling large datasets easy and provides functions to clean, filter, and analyze data.\n",
    "\n",
    "3. **Matplotlib**: Used for plotting and visualization. It allows you to create graphs, charts, and other visual representations of data.\n",
    "\n",
    "4. **SciPy**: Builds on NumPy and provides tools for scientific computing. It includes functions for optimization, integration, and statistical analysis.\n",
    "\n",
    "5. **Scikit-Learn**: A library for machine learning. It offers simple tools to create and test various machine learning models.\n",
    "\n",
    "6. **TensorFlow**: A library for deep learning developed by Google. It's used to create neural networks for tasks like image recognition, natural language processing, and more.\n",
    "\n",
    "7. **Beautiful Soup**: Helps with web scraping. You can use it to pull data from websites and work with HTML and XML files.\n",
    "\n",
    "8. **Flask**: A lightweight web framework. It's great for building small to medium-sized web applications quickly.\n",
    "\n",
    "9. **Django**: A more robust web framework for building large-scale web applications with database support and other complex features.\n",
    "\n",
    "10. **Tkinter**: Allows you to create graphical user interfaces (GUIs) for your Python applications.\n"
   ]
  },
  {
   "cell_type": "markdown",
   "metadata": {},
   "source": [
    "# Numpy"
   ]
  },
  {
   "cell_type": "markdown",
   "metadata": {
    "id": "1BZs4ppTSFFA"
   },
   "source": [
    "NumPy (Numerical Python) is a widely used library for numerical computations in Python. It provides support for large arrays and matrices, along with mathematical functions to operate on these arrays. It works in similiar way that you have learnt in Matlab.\n"
   ]
  },
  {
   "cell_type": "markdown",
   "metadata": {},
   "source": [
    "to find similar functions as Matlab - see this documentation.\n",
    "https://numpy.org/doc/stable/user/numpy-for-matlab-users.html\n"
   ]
  },
  {
   "cell_type": "markdown",
   "metadata": {
    "id": "uDod0n9N2cTz"
   },
   "source": [
    "The import statement is used to bring code from a library, module, or another file into your current script. This allows you to use functions from that library."
   ]
  },
  {
   "cell_type": "code",
   "execution_count": 47,
   "metadata": {
    "colab": {
     "base_uri": "https://localhost:8080/"
    },
    "id": "MU-_i2QhSTRJ",
    "outputId": "5ee5b8a5-7b1c-43a0-f20e-a9a5ddda880a"
   },
   "outputs": [
    {
     "name": "stdout",
     "output_type": "stream",
     "text": [
      "[1 2 3 4 5]\n",
      "This is output c =  [5 7 9]\n",
      "32\n"
     ]
    }
   ],
   "source": [
    "import numpy as np\n",
    "\n",
    "# Creating a 1-dimensional array\n",
    "arr = np.array([1, 2, 3, 4, 5])\n",
    "print(arr)\n",
    "\n",
    "a = np.array([1, 2, 3])\n",
    "b = np.array([4, 5, 6])\n",
    "\n",
    "# Element-wise addition\n",
    "c = a + b\n",
    "print(\"This is output c = \", c)\n",
    "#Dot Product\n",
    "d =  a @ b\n",
    "print(d)"
   ]
  },
  {
   "cell_type": "code",
   "execution_count": 48,
   "metadata": {},
   "outputs": [
    {
     "data": {
      "text/plain": [
       "[1, 2, 3, 4, 5, 6]"
      ]
     },
     "execution_count": 48,
     "metadata": {},
     "output_type": "execute_result"
    }
   ],
   "source": [
    "c=[1,2,3]\n",
    "d=[4,5,6]\n",
    "c+d"
   ]
  },
  {
   "cell_type": "code",
   "execution_count": 49,
   "metadata": {
    "colab": {
     "base_uri": "https://localhost:8080/"
    },
    "id": "k02X8CgbbDQa",
    "outputId": "b26bde2d-c8b2-439d-cd35-7880c1d04fa1"
   },
   "outputs": [
    {
     "name": "stdout",
     "output_type": "stream",
     "text": [
      "1\n",
      "2\n",
      "(2, 3)\n"
     ]
    }
   ],
   "source": [
    "a = np.array([2, 5, 8])\n",
    "print(a.ndim)\n",
    "b= np.array([[1,2,3],[4,5,6]])\n",
    "print(b.ndim)\n",
    "print(b.shape)"
   ]
  },
  {
   "cell_type": "code",
   "execution_count": null,
   "metadata": {},
   "outputs": [],
   "source": [
    "a."
   ]
  },
  {
   "cell_type": "code",
   "execution_count": 50,
   "metadata": {
    "colab": {
     "base_uri": "https://localhost:8080/"
    },
    "id": "FcLT891ZUtCJ",
    "outputId": "9e6d0bfa-79b7-4f8c-d0e8-efc3b4a816ec"
   },
   "outputs": [
    {
     "name": "stdout",
     "output_type": "stream",
     "text": [
      "15\n",
      "8\n",
      "2\n",
      "5.0\n",
      "[[1 0 1]\n",
      " [0 1 0]]\n"
     ]
    }
   ],
   "source": [
    "print(a.sum())\n",
    "print(a.max())\n",
    "print(a.min())\n",
    "print(a.mean())\n",
    "print(b%2)"
   ]
  },
  {
   "cell_type": "code",
   "execution_count": 51,
   "metadata": {
    "colab": {
     "base_uri": "https://localhost:8080/"
    },
    "id": "tJibKQ2ygr63",
    "outputId": "5bc07da8-adc0-4365-b857-a8f01dffb8df"
   },
   "outputs": [
    {
     "name": "stdout",
     "output_type": "stream",
     "text": [
      "[[1 2 3]\n",
      " [4 5 6]]\n"
     ]
    },
    {
     "data": {
      "text/plain": [
       "array([[1, 2],\n",
       "       [3, 4],\n",
       "       [5, 6]])"
      ]
     },
     "execution_count": 51,
     "metadata": {},
     "output_type": "execute_result"
    }
   ],
   "source": [
    "print(b)\n",
    "b.reshape(3,2)"
   ]
  },
  {
   "cell_type": "code",
   "execution_count": 52,
   "metadata": {
    "colab": {
     "base_uri": "https://localhost:8080/"
    },
    "id": "Yp8xb_RKjMQT",
    "outputId": "f5e2832d-3f50-4e46-f8ec-4dbe1200a2ca"
   },
   "outputs": [
    {
     "name": "stdout",
     "output_type": "stream",
     "text": [
      "[2 3]\n",
      "3\n",
      "[[2 3]\n",
      " [4 5]\n",
      " [6 7]]\n",
      "[4 5]\n",
      "5\n"
     ]
    }
   ],
   "source": [
    "#Indexing\n",
    "X1= np.array([2,3])\n",
    "print(X1)\n",
    "print(X1[1])\n",
    "\n",
    "\n",
    "X2= np.array([[2,3],[4,5],[6,7]])\n",
    "print(X2)\n",
    "print(X2[1])\n",
    "print(X2[1,1])"
   ]
  },
  {
   "cell_type": "code",
   "execution_count": 53,
   "metadata": {
    "colab": {
     "base_uri": "https://localhost:8080/"
    },
    "id": "yjlw_SObkacv",
    "outputId": "b99de6f0-4c86-4448-dab1-5a1f61d9da58"
   },
   "outputs": [
    {
     "data": {
      "text/plain": [
       "array([6, 7])"
      ]
     },
     "execution_count": 53,
     "metadata": {},
     "output_type": "execute_result"
    }
   ],
   "source": [
    "X2[X2>5]"
   ]
  },
  {
   "cell_type": "code",
   "execution_count": 54,
   "metadata": {
    "colab": {
     "base_uri": "https://localhost:8080/"
    },
    "id": "WazRI2qRkjmW",
    "outputId": "951407af-37f2-4951-89b2-e71f16c8a9a3"
   },
   "outputs": [
    {
     "data": {
      "text/plain": [
       "array([[2, 3]])"
      ]
     },
     "execution_count": 54,
     "metadata": {},
     "output_type": "execute_result"
    }
   ],
   "source": [
    "X2[:1,:]\n",
    "# :1 means rows up to and not including 1\n",
    "# : means all columns"
   ]
  },
  {
   "cell_type": "code",
   "execution_count": 55,
   "metadata": {
    "colab": {
     "base_uri": "https://localhost:8080/"
    },
    "id": "vFdV2fixmNmL",
    "outputId": "c478911c-7d08-404e-8ecd-7f35119cf5c1"
   },
   "outputs": [
    {
     "name": "stdout",
     "output_type": "stream",
     "text": [
      "[2 4 6]\n",
      "[[2]\n",
      " [4]\n",
      " [6]]\n"
     ]
    }
   ],
   "source": [
    "print(X2[:,0])\n",
    "print(X2[:,0:1])"
   ]
  },
  {
   "cell_type": "markdown",
   "metadata": {
    "id": "SH7zHX5FoxLh"
   },
   "source": [
    "## **Pandas**\n",
    "Pandas is a popular data manipulation library in Python that makes it easy to work with structured data like spreadsheets and databases. What we can do with pandas:\n",
    "1. Data Loading: Easily load data from various file formats like CSV, Excel, JSON, etc.\n",
    "2. Data Cleaning: Handle missing data, duplicates, and inconsistencies.\n",
    "3. Data Analysis: Perform statistical analysis and apply aggregation functions.\n",
    "4. Data Manipulation: Filter, sort, group, and reshape data.\n",
    "5. Data Visualization: Create simple plots and integrate with libraries like Matplotlib."
   ]
  },
  {
   "cell_type": "markdown",
   "metadata": {
    "id": "k9mjkjPBXxp1"
   },
   "source": [
    "To work with data table, you will need Pandas library. pandas is built on top of numpy array."
   ]
  },
  {
   "cell_type": "code",
   "execution_count": 56,
   "metadata": {
    "id": "9J71L9I4W2I0"
   },
   "outputs": [],
   "source": [
    "import pandas as pd"
   ]
  },
  {
   "cell_type": "markdown",
   "metadata": {
    "id": "vMYVCzRhYVr5"
   },
   "source": [
    "**Pandas Series object**"
   ]
  },
  {
   "cell_type": "markdown",
   "metadata": {
    "id": "8nOSEQXfZczk"
   },
   "source": [
    "index is automatically assigned"
   ]
  },
  {
   "cell_type": "code",
   "execution_count": 57,
   "metadata": {
    "colab": {
     "base_uri": "https://localhost:8080/"
    },
    "id": "gpKKRJ7oYNbe",
    "outputId": "f4b07b0e-5a08-4ad4-aa4b-752ea8930a6d"
   },
   "outputs": [
    {
     "data": {
      "text/plain": [
       "['harry', 'ron', 'hermione']"
      ]
     },
     "execution_count": 57,
     "metadata": {},
     "output_type": "execute_result"
    }
   ],
   "source": [
    "st= ['harry', 'ron', 'hermione']\n",
    "st"
   ]
  },
  {
   "cell_type": "code",
   "execution_count": 58,
   "metadata": {
    "colab": {
     "base_uri": "https://localhost:8080/"
    },
    "id": "Il3_D6ZsY17I",
    "outputId": "460126c9-7e3d-4a19-9edc-2dd69b2817b3"
   },
   "outputs": [
    {
     "data": {
      "text/plain": [
       "0       harry\n",
       "1         ron\n",
       "2    hermione\n",
       "dtype: object"
      ]
     },
     "execution_count": 58,
     "metadata": {},
     "output_type": "execute_result"
    }
   ],
   "source": [
    "ss= pd.Series(st)\n",
    "ss"
   ]
  },
  {
   "cell_type": "code",
   "execution_count": 59,
   "metadata": {
    "colab": {
     "base_uri": "https://localhost:8080/"
    },
    "id": "KlQrnPTlY7OV",
    "outputId": "3cdafffb-99ab-44bd-873b-5f02368faa13"
   },
   "outputs": [
    {
     "name": "stdout",
     "output_type": "stream",
     "text": [
      "{'Name': 'Legion', 'category': 'cbm', 'character': 'david haller', 'identity': 'mutant'}\n"
     ]
    },
    {
     "data": {
      "text/plain": [
       "Name               Legion\n",
       "category              cbm\n",
       "character    david haller\n",
       "identity           mutant\n",
       "dtype: object"
      ]
     },
     "execution_count": 59,
     "metadata": {},
     "output_type": "execute_result"
    }
   ],
   "source": [
    "Dict = {'Name': 'Legion', 'category': 'cbm', 'character': 'david haller','identity': 'mutant'}\n",
    "print(Dict)\n",
    "ds= pd.Series(Dict)\n",
    "ds"
   ]
  },
  {
   "cell_type": "markdown",
   "metadata": {
    "id": "TihtCqeGb2VC"
   },
   "source": [
    "**Querying a series**\n",
    "\n",
    "The loc method allows you to query rows and columns by label. The iloc method allows you to query rows and columns by integer position."
   ]
  },
  {
   "cell_type": "code",
   "execution_count": 60,
   "metadata": {
    "colab": {
     "base_uri": "https://localhost:8080/",
     "height": 36
    },
    "id": "4DIKFAsTb7y7",
    "outputId": "61843b20-842c-4b6d-ac48-c7ec0c0ff359"
   },
   "outputs": [
    {
     "data": {
      "text/plain": [
       "'david haller'"
      ]
     },
     "execution_count": 60,
     "metadata": {},
     "output_type": "execute_result"
    }
   ],
   "source": [
    "ds.iloc[2]"
   ]
  },
  {
   "cell_type": "code",
   "execution_count": 61,
   "metadata": {
    "colab": {
     "base_uri": "https://localhost:8080/",
     "height": 36
    },
    "id": "tuIXjsadcZCb",
    "outputId": "b9008692-d8df-4e5b-9706-d4cf6d7e5d4c"
   },
   "outputs": [
    {
     "data": {
      "text/plain": [
       "'mutant'"
      ]
     },
     "execution_count": 61,
     "metadata": {},
     "output_type": "execute_result"
    }
   ],
   "source": [
    "ds.loc['identity']"
   ]
  },
  {
   "cell_type": "code",
   "execution_count": 62,
   "metadata": {
    "colab": {
     "base_uri": "https://localhost:8080/",
     "height": 36
    },
    "id": "MLTuwJTqcegm",
    "outputId": "14a28159-bcac-47b7-e834-9dfe80478d93"
   },
   "outputs": [
    {
     "data": {
      "text/plain": [
       "'david haller'"
      ]
     },
     "execution_count": 62,
     "metadata": {},
     "output_type": "execute_result"
    }
   ],
   "source": [
    "ds[2]"
   ]
  },
  {
   "cell_type": "code",
   "execution_count": 63,
   "metadata": {
    "colab": {
     "base_uri": "https://localhost:8080/",
     "height": 36
    },
    "id": "3o15rECHch0a",
    "outputId": "c33db514-e842-40db-ff6d-3d87fbd82c9d"
   },
   "outputs": [
    {
     "data": {
      "text/plain": [
       "'Legion'"
      ]
     },
     "execution_count": 63,
     "metadata": {},
     "output_type": "execute_result"
    }
   ],
   "source": [
    "ds['Name']"
   ]
  },
  {
   "cell_type": "code",
   "execution_count": 64,
   "metadata": {
    "colab": {
     "base_uri": "https://localhost:8080/"
    },
    "id": "YAeYMF_oc53A",
    "outputId": "91a0b62d-ad4a-40cb-f970-0fa0265777e7"
   },
   "outputs": [
    {
     "data": {
      "text/plain": [
       "Name         We are Legion\n",
       "category               cbm\n",
       "character     david haller\n",
       "identity            mutant\n",
       "dtype: object"
      ]
     },
     "execution_count": 64,
     "metadata": {},
     "output_type": "execute_result"
    }
   ],
   "source": [
    "ds['Name']='We are Legion'\n",
    "ds"
   ]
  },
  {
   "cell_type": "markdown",
   "metadata": {
    "id": "wyr6JCgLc_DX"
   },
   "source": [
    "**Pandas DataFrame**"
   ]
  },
  {
   "cell_type": "markdown",
   "metadata": {
    "id": "6a_ccehUdCCb"
   },
   "source": [
    "multiple columns. Similar to Matlab's table"
   ]
  },
  {
   "cell_type": "code",
   "execution_count": 67,
   "metadata": {
    "colab": {
     "base_uri": "https://localhost:8080/",
     "height": 206
    },
    "id": "d12j-Y1rdGwy",
    "outputId": "b0ccdfa3-eb46-448a-e6cd-be755531a23f"
   },
   "outputs": [
    {
     "data": {
      "text/html": [
       "<div>\n",
       "<style scoped>\n",
       "    .dataframe tbody tr th:only-of-type {\n",
       "        vertical-align: middle;\n",
       "    }\n",
       "\n",
       "    .dataframe tbody tr th {\n",
       "        vertical-align: top;\n",
       "    }\n",
       "\n",
       "    .dataframe thead th {\n",
       "        text-align: right;\n",
       "    }\n",
       "</style>\n",
       "<table border=\"1\" class=\"dataframe\">\n",
       "  <thead>\n",
       "    <tr style=\"text-align: right;\">\n",
       "      <th></th>\n",
       "      <th>name</th>\n",
       "      <th>gender</th>\n",
       "      <th>class</th>\n",
       "    </tr>\n",
       "  </thead>\n",
       "  <tbody>\n",
       "    <tr>\n",
       "      <th>0</th>\n",
       "      <td>geralt</td>\n",
       "      <td>male</td>\n",
       "      <td>witcher</td>\n",
       "    </tr>\n",
       "    <tr>\n",
       "      <th>1</th>\n",
       "      <td>triss</td>\n",
       "      <td>female</td>\n",
       "      <td>sorceress</td>\n",
       "    </tr>\n",
       "    <tr>\n",
       "      <th>2</th>\n",
       "      <td>yennefer</td>\n",
       "      <td>female</td>\n",
       "      <td>sorceress</td>\n",
       "    </tr>\n",
       "    <tr>\n",
       "      <th>3</th>\n",
       "      <td>ciri</td>\n",
       "      <td>female</td>\n",
       "      <td>undefined</td>\n",
       "    </tr>\n",
       "    <tr>\n",
       "      <th>4</th>\n",
       "      <td>regis</td>\n",
       "      <td>male</td>\n",
       "      <td>higher vampire</td>\n",
       "    </tr>\n",
       "  </tbody>\n",
       "</table>\n",
       "</div>"
      ],
      "text/plain": [
       "       name  gender           class\n",
       "0    geralt    male         witcher\n",
       "1     triss  female       sorceress\n",
       "2  yennefer  female       sorceress\n",
       "3      ciri  female       undefined\n",
       "4     regis    male  higher vampire"
      ]
     },
     "execution_count": 67,
     "metadata": {},
     "output_type": "execute_result"
    }
   ],
   "source": [
    "data=pd.read_csv('data_01.csv')\n",
    "data"
   ]
  },
  {
   "cell_type": "code",
   "execution_count": null,
   "metadata": {
    "colab": {
     "base_uri": "https://localhost:8080/",
     "height": 511
    },
    "id": "RdTFOIqce2yM",
    "outputId": "32a96046-3997-446b-da85-fdb3a85ea363"
   },
   "outputs": [],
   "source": [
    "data[2]"
   ]
  },
  {
   "cell_type": "code",
   "execution_count": 69,
   "metadata": {
    "colab": {
     "base_uri": "https://localhost:8080/"
    },
    "id": "nnsGURWAfCRt",
    "outputId": "617b6c15-8e1a-4018-e072-ec82080f02db"
   },
   "outputs": [
    {
     "data": {
      "text/plain": [
       "name       yennefer\n",
       "gender       female\n",
       "class     sorceress\n",
       "Name: 2, dtype: object"
      ]
     },
     "execution_count": 69,
     "metadata": {},
     "output_type": "execute_result"
    }
   ],
   "source": [
    "data.iloc[2]"
   ]
  },
  {
   "cell_type": "code",
   "execution_count": null,
   "metadata": {
    "colab": {
     "base_uri": "https://localhost:8080/",
     "height": 321
    },
    "id": "5oEcY4vNfE5S",
    "outputId": "7ffd23cf-5c4f-4742-b9d8-bb5a5f28a5cb"
   },
   "outputs": [],
   "source": [
    "data.loc['triss']"
   ]
  },
  {
   "cell_type": "code",
   "execution_count": 71,
   "metadata": {
    "colab": {
     "base_uri": "https://localhost:8080/"
    },
    "id": "Q_8DVLjKfQh0",
    "outputId": "ff666267-351d-4fcd-aef4-b80d46f78b29"
   },
   "outputs": [
    {
     "data": {
      "text/plain": [
       "name          triss\n",
       "gender       female\n",
       "class     sorceress\n",
       "Name: 1, dtype: object"
      ]
     },
     "execution_count": 71,
     "metadata": {},
     "output_type": "execute_result"
    }
   ],
   "source": [
    "data.loc[1]"
   ]
  },
  {
   "cell_type": "markdown",
   "metadata": {
    "id": "39lLRtvMgLBS"
   },
   "source": [
    "direct indexing possible\n",
    "\n",
    "but for querying, use loc"
   ]
  },
  {
   "cell_type": "code",
   "execution_count": 72,
   "metadata": {
    "colab": {
     "base_uri": "https://localhost:8080/"
    },
    "id": "WAieCR1-faC_",
    "outputId": "f8999d9b-d597-403a-a8ef-e609cee3388f"
   },
   "outputs": [
    {
     "data": {
      "text/plain": [
       "0      geralt\n",
       "1       triss\n",
       "2    yennefer\n",
       "3        ciri\n",
       "4       regis\n",
       "Name: name, dtype: object"
      ]
     },
     "execution_count": 72,
     "metadata": {},
     "output_type": "execute_result"
    }
   ],
   "source": [
    "data['name']"
   ]
  },
  {
   "cell_type": "code",
   "execution_count": 73,
   "metadata": {
    "colab": {
     "base_uri": "https://localhost:8080/",
     "height": 206
    },
    "id": "rIHQ4fbmfqQT",
    "outputId": "943d0139-5382-46e5-dbbd-dacfb8ff4b59"
   },
   "outputs": [
    {
     "data": {
      "text/html": [
       "<div>\n",
       "<style scoped>\n",
       "    .dataframe tbody tr th:only-of-type {\n",
       "        vertical-align: middle;\n",
       "    }\n",
       "\n",
       "    .dataframe tbody tr th {\n",
       "        vertical-align: top;\n",
       "    }\n",
       "\n",
       "    .dataframe thead th {\n",
       "        text-align: right;\n",
       "    }\n",
       "</style>\n",
       "<table border=\"1\" class=\"dataframe\">\n",
       "  <thead>\n",
       "    <tr style=\"text-align: right;\">\n",
       "      <th></th>\n",
       "      <th>name</th>\n",
       "      <th>class</th>\n",
       "    </tr>\n",
       "  </thead>\n",
       "  <tbody>\n",
       "    <tr>\n",
       "      <th>0</th>\n",
       "      <td>geralt</td>\n",
       "      <td>witcher</td>\n",
       "    </tr>\n",
       "    <tr>\n",
       "      <th>1</th>\n",
       "      <td>triss</td>\n",
       "      <td>sorceress</td>\n",
       "    </tr>\n",
       "    <tr>\n",
       "      <th>2</th>\n",
       "      <td>yennefer</td>\n",
       "      <td>sorceress</td>\n",
       "    </tr>\n",
       "    <tr>\n",
       "      <th>3</th>\n",
       "      <td>ciri</td>\n",
       "      <td>undefined</td>\n",
       "    </tr>\n",
       "    <tr>\n",
       "      <th>4</th>\n",
       "      <td>regis</td>\n",
       "      <td>higher vampire</td>\n",
       "    </tr>\n",
       "  </tbody>\n",
       "</table>\n",
       "</div>"
      ],
      "text/plain": [
       "       name           class\n",
       "0    geralt         witcher\n",
       "1     triss       sorceress\n",
       "2  yennefer       sorceress\n",
       "3      ciri       undefined\n",
       "4     regis  higher vampire"
      ]
     },
     "execution_count": 73,
     "metadata": {},
     "output_type": "execute_result"
    }
   ],
   "source": [
    "data[['name','class']]"
   ]
  },
  {
   "cell_type": "code",
   "execution_count": 74,
   "metadata": {
    "colab": {
     "base_uri": "https://localhost:8080/",
     "height": 206
    },
    "id": "qp2feD4Rfylb",
    "outputId": "5f273b9e-d06e-4cde-b46c-59f5795102c2"
   },
   "outputs": [
    {
     "data": {
      "text/html": [
       "<div>\n",
       "<style scoped>\n",
       "    .dataframe tbody tr th:only-of-type {\n",
       "        vertical-align: middle;\n",
       "    }\n",
       "\n",
       "    .dataframe tbody tr th {\n",
       "        vertical-align: top;\n",
       "    }\n",
       "\n",
       "    .dataframe thead th {\n",
       "        text-align: right;\n",
       "    }\n",
       "</style>\n",
       "<table border=\"1\" class=\"dataframe\">\n",
       "  <thead>\n",
       "    <tr style=\"text-align: right;\">\n",
       "      <th></th>\n",
       "      <th>class</th>\n",
       "    </tr>\n",
       "  </thead>\n",
       "  <tbody>\n",
       "    <tr>\n",
       "      <th>0</th>\n",
       "      <td>witcher</td>\n",
       "    </tr>\n",
       "    <tr>\n",
       "      <th>1</th>\n",
       "      <td>sorceress</td>\n",
       "    </tr>\n",
       "    <tr>\n",
       "      <th>2</th>\n",
       "      <td>sorceress</td>\n",
       "    </tr>\n",
       "    <tr>\n",
       "      <th>3</th>\n",
       "      <td>undefined</td>\n",
       "    </tr>\n",
       "    <tr>\n",
       "      <th>4</th>\n",
       "      <td>higher vampire</td>\n",
       "    </tr>\n",
       "  </tbody>\n",
       "</table>\n",
       "</div>"
      ],
      "text/plain": [
       "            class\n",
       "0         witcher\n",
       "1       sorceress\n",
       "2       sorceress\n",
       "3       undefined\n",
       "4  higher vampire"
      ]
     },
     "execution_count": 74,
     "metadata": {},
     "output_type": "execute_result"
    }
   ],
   "source": [
    "data.loc[:,['class']]"
   ]
  },
  {
   "cell_type": "code",
   "execution_count": 75,
   "metadata": {},
   "outputs": [],
   "source": [
    "# add new column\n",
    "data['characteristics']= ['badass', 'kind', 'nightmare', 'she-devil', 'old friend']"
   ]
  },
  {
   "cell_type": "code",
   "execution_count": 76,
   "metadata": {},
   "outputs": [
    {
     "data": {
      "text/html": [
       "<div>\n",
       "<style scoped>\n",
       "    .dataframe tbody tr th:only-of-type {\n",
       "        vertical-align: middle;\n",
       "    }\n",
       "\n",
       "    .dataframe tbody tr th {\n",
       "        vertical-align: top;\n",
       "    }\n",
       "\n",
       "    .dataframe thead th {\n",
       "        text-align: right;\n",
       "    }\n",
       "</style>\n",
       "<table border=\"1\" class=\"dataframe\">\n",
       "  <thead>\n",
       "    <tr style=\"text-align: right;\">\n",
       "      <th></th>\n",
       "      <th>name</th>\n",
       "      <th>gender</th>\n",
       "      <th>class</th>\n",
       "      <th>characteristics</th>\n",
       "    </tr>\n",
       "  </thead>\n",
       "  <tbody>\n",
       "    <tr>\n",
       "      <th>0</th>\n",
       "      <td>geralt</td>\n",
       "      <td>male</td>\n",
       "      <td>witcher</td>\n",
       "      <td>badass</td>\n",
       "    </tr>\n",
       "    <tr>\n",
       "      <th>1</th>\n",
       "      <td>triss</td>\n",
       "      <td>female</td>\n",
       "      <td>sorceress</td>\n",
       "      <td>kind</td>\n",
       "    </tr>\n",
       "    <tr>\n",
       "      <th>2</th>\n",
       "      <td>yennefer</td>\n",
       "      <td>female</td>\n",
       "      <td>sorceress</td>\n",
       "      <td>nightmare</td>\n",
       "    </tr>\n",
       "    <tr>\n",
       "      <th>3</th>\n",
       "      <td>ciri</td>\n",
       "      <td>female</td>\n",
       "      <td>undefined</td>\n",
       "      <td>she-devil</td>\n",
       "    </tr>\n",
       "    <tr>\n",
       "      <th>4</th>\n",
       "      <td>regis</td>\n",
       "      <td>male</td>\n",
       "      <td>higher vampire</td>\n",
       "      <td>old friend</td>\n",
       "    </tr>\n",
       "  </tbody>\n",
       "</table>\n",
       "</div>"
      ],
      "text/plain": [
       "       name  gender           class characteristics\n",
       "0    geralt    male         witcher          badass\n",
       "1     triss  female       sorceress            kind\n",
       "2  yennefer  female       sorceress       nightmare\n",
       "3      ciri  female       undefined       she-devil\n",
       "4     regis    male  higher vampire      old friend"
      ]
     },
     "execution_count": 76,
     "metadata": {},
     "output_type": "execute_result"
    }
   ],
   "source": [
    "data"
   ]
  },
  {
   "cell_type": "markdown",
   "metadata": {
    "id": "Mf6hGo2Mx5X6"
   },
   "source": [
    "## **Function**\n",
    " Creating and calling functions in python is very similiar to Matlab. But we will likely not use any user defined functions, because python has well enriched libraries to call functions from.\n",
    " Start by defining the function using the def keyword, followed by the function name and any parameters it needs."
   ]
  },
  {
   "cell_type": "code",
   "execution_count": 77,
   "metadata": {
    "id": "XLx311BFx8uY"
   },
   "outputs": [],
   "source": [
    "def sum(number1, number2):\n",
    "    result = number1 + number2\n",
    "    return result"
   ]
  },
  {
   "cell_type": "code",
   "execution_count": 78,
   "metadata": {
    "colab": {
     "base_uri": "https://localhost:8080/"
    },
    "id": "FgfrE8Hgyj-C",
    "outputId": "82b7dc75-d45d-403e-d31b-fc421c03ff77"
   },
   "outputs": [
    {
     "name": "stdout",
     "output_type": "stream",
     "text": [
      "112\n"
     ]
    }
   ],
   "source": [
    "sum_result = sum(55,57)\n",
    "print(sum_result)\n"
   ]
  },
  {
   "cell_type": "markdown",
   "metadata": {
    "id": "TpNgEvYtI66n"
   },
   "source": [
    "**Method**"
   ]
  },
  {
   "cell_type": "markdown",
   "metadata": {
    "id": "ppVnpTJxJN8d"
   },
   "source": [
    "Unlike matlab where u call a function using parenthesis, in python, u call it with a dot after the object.\n",
    "\n",
    "for instance, here, n is an object --> collection of items --> numpy array"
   ]
  },
  {
   "cell_type": "code",
   "execution_count": 79,
   "metadata": {
    "colab": {
     "base_uri": "https://localhost:8080/"
    },
    "id": "Rmd4JjCvJD4E",
    "outputId": "55e09341-9389-45a8-b335-a2560ff1a239"
   },
   "outputs": [
    {
     "data": {
      "text/plain": [
       "array([2, 5, 1, 1, 5, 7])"
      ]
     },
     "execution_count": 79,
     "metadata": {},
     "output_type": "execute_result"
    }
   ],
   "source": [
    "import numpy as np\n",
    "a= np.array([2,5,1,1,5,7])\n",
    "a"
   ]
  },
  {
   "cell_type": "code",
   "execution_count": 80,
   "metadata": {
    "colab": {
     "base_uri": "https://localhost:8080/"
    },
    "id": "7-DZ2HT9J9FW",
    "outputId": "b5507cae-7afb-4c74-a42f-38f10e780be1"
   },
   "outputs": [
    {
     "data": {
      "text/plain": [
       "array([1, 2, 5, 7])"
      ]
     },
     "execution_count": 80,
     "metadata": {},
     "output_type": "execute_result"
    }
   ],
   "source": [
    "np.unique(a)"
   ]
  },
  {
   "cell_type": "code",
   "execution_count": 81,
   "metadata": {
    "colab": {
     "base_uri": "https://localhost:8080/"
    },
    "id": "qLezEE5TKbVD",
    "outputId": "8e1621b1-3ba1-4f38-cc75-140da278accd"
   },
   "outputs": [
    {
     "data": {
      "text/plain": [
       "21"
      ]
     },
     "execution_count": 81,
     "metadata": {},
     "output_type": "execute_result"
    }
   ],
   "source": [
    "a.sum()"
   ]
  },
  {
   "cell_type": "markdown",
   "metadata": {
    "id": "rH7B_zO5MBRm"
   },
   "source": [
    "**Importing libraries**"
   ]
  },
  {
   "cell_type": "markdown",
   "metadata": {
    "id": "YwO21WODMZmC"
   },
   "source": [
    "https://scikit-learn.org/stable/modules/classes.html\n",
    "\n",
    "look at preprocessing module"
   ]
  },
  {
   "cell_type": "code",
   "execution_count": 7,
   "metadata": {
    "id": "E68BA2BpMAv9"
   },
   "outputs": [],
   "source": [
    "from sklearn.preprocessing import MinMaxScaler"
   ]
  },
  {
   "cell_type": "code",
   "execution_count": 8,
   "metadata": {
    "id": "NC17w5YsMhkI"
   },
   "outputs": [],
   "source": [
    "from sklearn.preprocessing import *"
   ]
  }
 ],
 "metadata": {
  "colab": {
   "provenance": []
  },
  "kernelspec": {
   "display_name": "Python 3 (ipykernel)",
   "language": "python",
   "name": "python3"
  },
  "language_info": {
   "codemirror_mode": {
    "name": "ipython",
    "version": 3
   },
   "file_extension": ".py",
   "mimetype": "text/x-python",
   "name": "python",
   "nbconvert_exporter": "python",
   "pygments_lexer": "ipython3",
   "version": "3.9.7"
  }
 },
 "nbformat": 4,
 "nbformat_minor": 1
}
